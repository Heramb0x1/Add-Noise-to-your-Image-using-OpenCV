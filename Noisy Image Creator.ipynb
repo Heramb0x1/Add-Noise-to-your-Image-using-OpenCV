{
 "cells": [
  {
   "cell_type": "code",
   "execution_count": null,
   "id": "e10c5ff7",
   "metadata": {},
   "outputs": [],
   "source": [
    "#Made By @Heramb.0x1\n",
    "#DMs Are Open: https://www.linkedin.com/in/heramb0x1/"
   ]
  },
  {
   "cell_type": "code",
   "execution_count": 5,
   "id": "68c9e5a7",
   "metadata": {},
   "outputs": [],
   "source": [
    "import cv2\n",
    "import random"
   ]
  },
  {
   "cell_type": "code",
   "execution_count": 6,
   "id": "f2ffb8cc",
   "metadata": {},
   "outputs": [],
   "source": [
    "def noise_black_white(image):\n",
    "    # Get the dimensions of Image\n",
    "    row, col = image.shape\n",
    "    num_of_pixels = random.randint(1500, 20000)\n",
    "    for i in range(num_of_pixels):\n",
    "        # pick random y-coordinate\n",
    "        y_coordinate = random.randint(0, row - 1)\n",
    "        # pick random x-coordinate\n",
    "        x_coordinate = random.randint(0, col - 1)\n",
    "        image[y_coordinate][x_coordinate] = 255\n",
    "    for i in range(num_of_pixels):\n",
    "        # pick random y-coordinate\n",
    "        y_coordinate = random.randint(0, row - 1)\n",
    "        # pick random x-coordinate\n",
    "        x_coordinate = random.randint(0, col - 1)\n",
    "        image[y_coordinate][x_coordinate] = 0\n",
    "    return image"
   ]
  },
  {
   "cell_type": "code",
   "execution_count": 5,
   "id": "93e8142a",
   "metadata": {},
   "outputs": [],
   "source": [
    "####processing Noisy image"
   ]
  },
  {
   "cell_type": "code",
   "execution_count": 7,
   "id": "177b4f46",
   "metadata": {
    "scrolled": true
   },
   "outputs": [],
   "source": [
    "image = cv2.imread(\"D:\\OpenCV (CV-Computer Vision) Project\\parrot.jpg\", cv2.IMREAD_GRAYSCALE)"
   ]
  },
  {
   "cell_type": "code",
   "execution_count": 8,
   "id": "fd50b822",
   "metadata": {},
   "outputs": [],
   "source": [
    "cv2.imshow('Original Image', image)\n",
    "cv2.imshow('Noisy Image',noise_black_white(image))\n",
    "\n",
    "cv2.imwrite(\"E:/OpenCV/noisy_image.jpg\",noise_black_white(image))\n",
    "# press any key with 0 wait time\n",
    "cv2.waitKey(0)\n",
    "# Close all imageframe\n",
    "cv2.destroyAllWindows()"
   ]
  },
  {
   "cell_type": "code",
   "execution_count": null,
   "id": "f4ca8be0",
   "metadata": {},
   "outputs": [],
   "source": []
  }
 ],
 "metadata": {
  "kernelspec": {
   "display_name": "Python 3 (ipykernel)",
   "language": "python",
   "name": "python3"
  },
  "language_info": {
   "codemirror_mode": {
    "name": "ipython",
    "version": 3
   },
   "file_extension": ".py",
   "mimetype": "text/x-python",
   "name": "python",
   "nbconvert_exporter": "python",
   "pygments_lexer": "ipython3",
   "version": "3.11.5"
  }
 },
 "nbformat": 4,
 "nbformat_minor": 5
}
